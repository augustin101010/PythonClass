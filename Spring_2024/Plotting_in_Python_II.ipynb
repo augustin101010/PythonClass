{
 "cells": [
  {
   "cell_type": "code",
   "execution_count": null,
   "id": "82eb329b-6786-4b09-b112-f1142a7554cf",
   "metadata": {},
   "outputs": [],
   "source": [
    "import numpy as np\n",
    "import matplotlib.pyplot as plt"
   ]
  },
  {
   "cell_type": "markdown",
   "id": "8b9c71f7-bd22-45d9-be28-6e3067b449d9",
   "metadata": {},
   "source": [
    "## Generalities\n",
    "\n",
    "Last week we discussed how to generate plots of simple functions in python, this week we expand a "
   ]
  },
  {
   "cell_type": "code",
   "execution_count": null,
   "id": "1e629ead-7d56-49d6-8f98-5168ceda2808",
   "metadata": {},
   "outputs": [],
   "source": [
    "cubic_parabola = lambda a,b,c,d,x : a*x**3+b*x**2+c*x+d"
   ]
  },
  {
   "cell_type": "markdown",
   "id": "69f0734c-4fe7-4e1f-a065-a89ca494a7dc",
   "metadata": {},
   "source": [
    "This lambda represents the cubic parabola \n",
    "\n",
    "$$ ax^3+bx^2+cx+d $$\n",
    "\n",
    "Last time we discussed **Partial Application** of lambda functions which is a way of deriving new lambda functions from old ones by fixing some of the variables of the first, for instance the following:"
   ]
  },
  {
   "cell_type": "code",
   "execution_count": null,
   "id": "005cd953-e04c-4e9c-ac77-375d6de76e04",
   "metadata": {},
   "outputs": [],
   "source": [
    "cubic_1 = lambda x : cubic_parabola(1,0,1,1,x)"
   ]
  },
  {
   "cell_type": "markdown",
   "id": "71f57639-235d-4133-a62e-76292c9fd8ee",
   "metadata": {},
   "source": [
    "Is a **partial application** of *cubic_parabola* where we've fixed all $a=1,b=0,c=1,d=1$ but not $x$, so what we get is a function of $x$ which corresponds to:\n",
    "\n",
    "$$ x^3+x+1 $$\n"
   ]
  },
  {
   "cell_type": "markdown",
   "id": "ac2982bb-053b-4802-b52e-9e176dfb8f1e",
   "metadata": {},
   "source": [
    "### Write partial applications of *cubic_parabola* that correspond to:\n",
    "\n",
    "<ol>\n",
    "    <li> $x^3-x$ </li>\n",
    "    <li> $x^3-2x^2-29x+30$ </li>\n",
    "    <li> $x^3+x^2-8x-12$ </li>\n",
    "</ol>"
   ]
  },
  {
   "cell_type": "code",
   "execution_count": null,
   "id": "78c61c78-8d49-4d8d-9cf7-6f2db733743a",
   "metadata": {},
   "outputs": [],
   "source": [
    "#YOUR CODE GOES HERE"
   ]
  },
  {
   "cell_type": "markdown",
   "id": "e7ca15c2-2024-47eb-87ab-bb360cfded99",
   "metadata": {},
   "source": [
    "In order to plot we had to generate arrays containing all the points og the graph, we generated the $x$ arrays by dividing a set interval in a given number of points:"
   ]
  },
  {
   "cell_type": "code",
   "execution_count": null,
   "id": "b61e5ad7-9cea-4732-9c19-b7e67f9d470d",
   "metadata": {},
   "outputs": [],
   "source": [
    "num_points = 100\n",
    "start = -2\n",
    "end   = 2\n",
    "\n",
    "x_axis  = [ start + (end-start)*float(i)/num_points for i in range(num_points+1) ]"
   ]
  },
  {
   "cell_type": "markdown",
   "id": "008d2c2b-aa45-466e-86a1-e11905c7844f",
   "metadata": {},
   "source": [
    "This code is the same that we used last time, can you see why?"
   ]
  },
  {
   "cell_type": "markdown",
   "id": "3cd583f1-ebc1-43d8-aa6f-794b085c7cdb",
   "metadata": {},
   "source": [
    "### Generate the following axes for plotting\n",
    "\n",
    "<ol>\n",
    "    <li> An axis with 30 poitns between -2 and 2 </li>\n",
    "    <li> An axis with 100 poitns between -6 and 2 </li>\n",
    "    <li> An axis with 25 poitns between -3 and 4 </li>\n",
    "</ol>"
   ]
  },
  {
   "cell_type": "code",
   "execution_count": null,
   "id": "2dadfaf6-b44d-4a2a-84b8-d8bc8583d8ba",
   "metadata": {},
   "outputs": [],
   "source": [
    "#YOUR CODE GOES HERE"
   ]
  },
  {
   "cell_type": "markdown",
   "id": "0f018adb-50ba-472a-809d-187c4e303593",
   "metadata": {},
   "source": [
    "The final step in plotting was to generate the $y$ axis from the given $x$ axis, we did this by doing:"
   ]
  },
  {
   "cell_type": "code",
   "execution_count": null,
   "id": "12d1a8e3-395e-45a8-a4ee-9b6f365a2b13",
   "metadata": {},
   "outputs": [],
   "source": [
    "some_function = lambda x : x**2-3\n",
    "\n",
    "y_axis = [ some_function(xs) for xs in x_axis ]"
   ]
  },
  {
   "cell_type": "markdown",
   "id": "0365eafd-dc22-4675-9b3a-c19130d49eca",
   "metadata": {},
   "source": [
    "And then plotting:"
   ]
  },
  {
   "cell_type": "code",
   "execution_count": null,
   "id": "ae4b902d-3c08-44e6-b042-dc7604d3b66b",
   "metadata": {},
   "outputs": [],
   "source": [
    "plt.plot(x_axis,y_axis)\n",
    "plt.show()"
   ]
  },
  {
   "cell_type": "markdown",
   "id": "02f82a3a-58a1-4e0c-968e-acd501216b38",
   "metadata": {},
   "source": [
    "### Plot the following\n",
    "\n",
    "<ol>\n",
    "    <li>$x^3-x$ from $-2$ to $2$</li>\n",
    "    <li>$x^3-2x^2-29x+30$ from $-6$ to $2$</li>\n",
    "    <li>$x^3+x^2-8x-12$ from $-3$ to $4$</li>\n",
    "</ol>"
   ]
  },
  {
   "cell_type": "code",
   "execution_count": null,
   "id": "43fdd0ac-19bb-4daf-aba5-7581d6a3609b",
   "metadata": {},
   "outputs": [],
   "source": [
    "# YOUR CODE GOES HERE"
   ]
  }
 ],
 "metadata": {
  "kernelspec": {
   "display_name": "Python 3 (ipykernel)",
   "language": "python",
   "name": "python3"
  },
  "language_info": {
   "codemirror_mode": {
    "name": "ipython",
    "version": 3
   },
   "file_extension": ".py",
   "mimetype": "text/x-python",
   "name": "python",
   "nbconvert_exporter": "python",
   "pygments_lexer": "ipython3",
   "version": "3.11.5"
  }
 },
 "nbformat": 4,
 "nbformat_minor": 5
}
